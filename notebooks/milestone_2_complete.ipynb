{
 "cells": [
  {
   "cell_type": "code",
   "execution_count": 1,
   "id": "cfca1cf2",
   "metadata": {
    "scrolled": true
   },
   "outputs": [
    {
     "name": "stderr",
     "output_type": "stream",
     "text": [
      "/opt/tljh/user/lib/python3.7/site-packages/requests/__init__.py:91: RequestsDependencyWarning: urllib3 (1.26.4) or chardet (3.0.4) doesn't match a supported version!\n",
      "  RequestsDependencyWarning)\n"
     ]
    }
   ],
   "source": [
    "import re\n",
    "import os\n",
    "import glob\n",
    "import zipfile\n",
    "import requests\n",
    "from urllib.request import urlretrieve\n",
    "import json\n",
    "import pandas as pd"
   ]
  },
  {
   "cell_type": "markdown",
   "id": "7caa1e41",
   "metadata": {},
   "source": [
    "## Setting up the instance"
   ]
  },
  {
   "cell_type": "markdown",
   "id": "6d9d3c3e",
   "metadata": {},
   "source": [
    "### Screenshot"
   ]
  },
  {
   "cell_type": "markdown",
   "id": "88809664",
   "metadata": {},
   "source": [
    "![](https://github.com/UBC-MDS/web_cloud_comp_group2/raw/main/notebooks/img/image_1.png)"
   ]
  },
  {
   "cell_type": "markdown",
   "id": "41acb7b6",
   "metadata": {},
   "source": [
    "## Setting up JupyterHub"
   ]
  },
  {
   "cell_type": "markdown",
   "id": "7bf8d964",
   "metadata": {},
   "source": [
    "### Screenshot"
   ]
  },
  {
   "cell_type": "markdown",
   "id": "7d95fe71",
   "metadata": {},
   "source": [
    "![](https://github.com/UBC-MDS/web_cloud_comp_group2/raw/main/notebooks/img/image_2.png)"
   ]
  },
  {
   "cell_type": "markdown",
   "id": "577de132",
   "metadata": {},
   "source": [
    "## Setting up the server"
   ]
  },
  {
   "cell_type": "markdown",
   "id": "d775c217",
   "metadata": {},
   "source": [
    "### Screenshot"
   ]
  },
  {
   "cell_type": "markdown",
   "id": "43180f36",
   "metadata": {},
   "source": [
    "![](https://github.com/UBC-MDS/web_cloud_comp_group2/raw/main/notebooks/img/image_3.png)"
   ]
  },
  {
   "cell_type": "markdown",
   "id": "75dffe60",
   "metadata": {},
   "source": [
    "## Setting up the S3 bucket and moving the data"
   ]
  },
  {
   "cell_type": "markdown",
   "id": "f4977a40",
   "metadata": {},
   "source": [
    "### Screenshot"
   ]
  },
  {
   "cell_type": "markdown",
   "id": "1ab2e073",
   "metadata": {},
   "source": [
    "![](https://github.com/UBC-MDS/web_cloud_comp_group2/raw/main/notebooks/img/image_4.png)"
   ]
  },
  {
   "cell_type": "markdown",
   "id": "5a37810a",
   "metadata": {},
   "source": [
    "## Wrangling the data"
   ]
  },
  {
   "cell_type": "code",
   "execution_count": null,
   "id": "004e9e61",
   "metadata": {},
   "outputs": [],
   "source": [
    "# Necessary metadata\n",
    "article_id = 14226968  # this is the unique identifier of the article on figshare\n",
    "url = f\"https://api.figshare.com/v2/articles/{article_id}\"\n",
    "headers = {\"Content-Type\": \"application/json\"}\n",
    "output_directory = \"/srv/data/my_shared_data_folder/\""
   ]
  },
  {
   "cell_type": "code",
   "execution_count": null,
   "id": "cc23646f",
   "metadata": {},
   "outputs": [],
   "source": [
    "response = requests.request(\"GET\", url, headers=headers)\n",
    "data = json.loads(response.text)  # this contains all the articles data, feel free to check it out\n",
    "files = data[\"files\"]             # this is just the data about the files, which is what we want\n",
    "files"
   ]
  },
  {
   "cell_type": "code",
   "execution_count": null,
   "id": "f1e015bf",
   "metadata": {},
   "outputs": [],
   "source": [
    "files_to_dl = [\"combined_model_data_parti.parquet.zip\"]  ## Please download the partitioned \n",
    "for file in files:\n",
    "    if file[\"name\"] in files_to_dl:\n",
    "        os.makedirs(output_directory, exist_ok=True)\n",
    "        urlretrieve(file[\"download_url\"], output_directory + file[\"name\"])"
   ]
  },
  {
   "cell_type": "code",
   "execution_count": null,
   "id": "cb814438",
   "metadata": {},
   "outputs": [],
   "source": [
    "with zipfile.ZipFile(os.path.join(output_directory, \"combined_model_data_parti.parquet.zip\"), 'r') as f:\n",
    "    f.extractall(output_directory)"
   ]
  },
  {
   "cell_type": "code",
   "execution_count": 2,
   "id": "a33916f5",
   "metadata": {},
   "outputs": [],
   "source": [
    "# Passing your credentials \n",
    "## IMPORTANT: make sure you dont include you secret and key when submitting the notebook\n",
    "aws_credentials ={\"key\": \"\",\"secret\": \"\"} ## dont include you secret and key when submitting the notebook\n",
    "df = pd.read_parquet(\"s3://mds-s3-student1/combined_model_data_parti.parquet\", storage_options=aws_credentials)\n",
    "df_syd_observed = pd.read_csv(\"s3://mds-s3-student1/observed_daily_rainfall_SYD.csv\", storage_options=aws_credentials, index_col='time')"
   ]
  },
  {
   "cell_type": "code",
   "execution_count": 3,
   "id": "0b985c90",
   "metadata": {
    "scrolled": true
   },
   "outputs": [
    {
     "data": {
      "text/plain": [
       "(62513863, 7)"
      ]
     },
     "execution_count": 3,
     "metadata": {},
     "output_type": "execute_result"
    }
   ],
   "source": [
    "df.shape"
   ]
  },
  {
   "cell_type": "code",
   "execution_count": 4,
   "id": "c4e8fe4e",
   "metadata": {},
   "outputs": [
    {
     "data": {
      "text/plain": [
       "(46020, 1)"
      ]
     },
     "execution_count": 4,
     "metadata": {},
     "output_type": "execute_result"
    }
   ],
   "source": [
    "df_syd_observed.shape"
   ]
  },
  {
   "cell_type": "code",
   "execution_count": 5,
   "id": "6ba9d97d",
   "metadata": {},
   "outputs": [],
   "source": [
    "syd_lat = -33.86\n",
    "syd_lon = 151.21\n",
    "\n",
    "df = df.query(\"lat_min <= @syd_lat <= lat_max \").query(\"lon_min <= @syd_lon <= lon_max \")\n",
    "df.index = df.time\n",
    "df = df.drop(columns=['lat_min', 'lat_max', 'lon_min', 'lon_max', 'time'])\n",
    "df = df.pivot(columns='model', values='rain (mm/day)')\n",
    "df = df.resample('D').mean()\n",
    "df['observed'] = df_syd_observed['rain (mm/day)'].to_numpy()"
   ]
  },
  {
   "cell_type": "code",
   "execution_count": 6,
   "id": "22b02076",
   "metadata": {
    "scrolled": true
   },
   "outputs": [
    {
     "data": {
      "text/html": [
       "<div>\n",
       "<style scoped>\n",
       "    .dataframe tbody tr th:only-of-type {\n",
       "        vertical-align: middle;\n",
       "    }\n",
       "\n",
       "    .dataframe tbody tr th {\n",
       "        vertical-align: top;\n",
       "    }\n",
       "\n",
       "    .dataframe thead th {\n",
       "        text-align: right;\n",
       "    }\n",
       "</style>\n",
       "<table border=\"1\" class=\"dataframe\">\n",
       "  <thead>\n",
       "    <tr style=\"text-align: right;\">\n",
       "      <th>model</th>\n",
       "      <th>ACCESS-CM2</th>\n",
       "      <th>ACCESS-ESM1-5</th>\n",
       "      <th>AWI-ESM-1-1-LR</th>\n",
       "      <th>BCC-CSM2-MR</th>\n",
       "      <th>BCC-ESM1</th>\n",
       "      <th>CMCC-CM2-HR4</th>\n",
       "      <th>CMCC-CM2-SR5</th>\n",
       "      <th>CMCC-ESM2</th>\n",
       "      <th>CanESM5</th>\n",
       "      <th>EC-Earth3-Veg-LR</th>\n",
       "      <th>...</th>\n",
       "      <th>MPI-ESM-1-2-HAM</th>\n",
       "      <th>MPI-ESM1-2-HR</th>\n",
       "      <th>MPI-ESM1-2-LR</th>\n",
       "      <th>MRI-ESM2-0</th>\n",
       "      <th>NESM3</th>\n",
       "      <th>NorESM2-LM</th>\n",
       "      <th>NorESM2-MM</th>\n",
       "      <th>SAM0-UNICON</th>\n",
       "      <th>TaiESM1</th>\n",
       "      <th>observed</th>\n",
       "    </tr>\n",
       "    <tr>\n",
       "      <th>time</th>\n",
       "      <th></th>\n",
       "      <th></th>\n",
       "      <th></th>\n",
       "      <th></th>\n",
       "      <th></th>\n",
       "      <th></th>\n",
       "      <th></th>\n",
       "      <th></th>\n",
       "      <th></th>\n",
       "      <th></th>\n",
       "      <th></th>\n",
       "      <th></th>\n",
       "      <th></th>\n",
       "      <th></th>\n",
       "      <th></th>\n",
       "      <th></th>\n",
       "      <th></th>\n",
       "      <th></th>\n",
       "      <th></th>\n",
       "      <th></th>\n",
       "      <th></th>\n",
       "    </tr>\n",
       "  </thead>\n",
       "  <tbody>\n",
       "    <tr>\n",
       "      <th>1889-01-01</th>\n",
       "      <td>0.040427</td>\n",
       "      <td>1.814552</td>\n",
       "      <td>3.557934e+01</td>\n",
       "      <td>4.268112e+00</td>\n",
       "      <td>1.107466e-03</td>\n",
       "      <td>1.141054e+01</td>\n",
       "      <td>3.322009e-08</td>\n",
       "      <td>2.668800</td>\n",
       "      <td>1.321215</td>\n",
       "      <td>1.515293</td>\n",
       "      <td>...</td>\n",
       "      <td>4.244226e-13</td>\n",
       "      <td>1.390174e-13</td>\n",
       "      <td>6.537884e-05</td>\n",
       "      <td>3.445495e-06</td>\n",
       "      <td>1.576096e+01</td>\n",
       "      <td>4.759651e-05</td>\n",
       "      <td>2.451075</td>\n",
       "      <td>0.221324</td>\n",
       "      <td>2.257933</td>\n",
       "      <td>0.006612</td>\n",
       "    </tr>\n",
       "    <tr>\n",
       "      <th>1889-01-02</th>\n",
       "      <td>0.073777</td>\n",
       "      <td>0.303965</td>\n",
       "      <td>4.596520e+00</td>\n",
       "      <td>1.190141e+00</td>\n",
       "      <td>1.015323e-04</td>\n",
       "      <td>4.014984e+00</td>\n",
       "      <td>1.312700e+00</td>\n",
       "      <td>0.946211</td>\n",
       "      <td>2.788724</td>\n",
       "      <td>4.771375</td>\n",
       "      <td>...</td>\n",
       "      <td>4.409552e+00</td>\n",
       "      <td>1.222283e-01</td>\n",
       "      <td>1.049131e-13</td>\n",
       "      <td>4.791993e-09</td>\n",
       "      <td>3.675510e-01</td>\n",
       "      <td>4.350863e-01</td>\n",
       "      <td>0.477231</td>\n",
       "      <td>3.757179</td>\n",
       "      <td>2.287381</td>\n",
       "      <td>0.090422</td>\n",
       "    </tr>\n",
       "    <tr>\n",
       "      <th>1889-01-03</th>\n",
       "      <td>0.232656</td>\n",
       "      <td>0.019976</td>\n",
       "      <td>5.927467e+00</td>\n",
       "      <td>1.003845e-09</td>\n",
       "      <td>1.760345e-05</td>\n",
       "      <td>9.660565e+00</td>\n",
       "      <td>9.103720e+00</td>\n",
       "      <td>0.431999</td>\n",
       "      <td>0.003672</td>\n",
       "      <td>4.233980</td>\n",
       "      <td>...</td>\n",
       "      <td>2.269300e-01</td>\n",
       "      <td>3.762301e-01</td>\n",
       "      <td>9.758706e-14</td>\n",
       "      <td>6.912302e-01</td>\n",
       "      <td>1.562869e-01</td>\n",
       "      <td>9.561101e+00</td>\n",
       "      <td>0.023083</td>\n",
       "      <td>0.253357</td>\n",
       "      <td>1.199909</td>\n",
       "      <td>1.401452</td>\n",
       "    </tr>\n",
       "    <tr>\n",
       "      <th>1889-01-04</th>\n",
       "      <td>0.911319</td>\n",
       "      <td>13.623777</td>\n",
       "      <td>8.029624e+00</td>\n",
       "      <td>8.225225e-02</td>\n",
       "      <td>1.808932e-01</td>\n",
       "      <td>3.951528e+00</td>\n",
       "      <td>1.317160e+01</td>\n",
       "      <td>0.368693</td>\n",
       "      <td>0.013578</td>\n",
       "      <td>15.252495</td>\n",
       "      <td>...</td>\n",
       "      <td>2.344586e-02</td>\n",
       "      <td>4.214019e-01</td>\n",
       "      <td>7.060915e-03</td>\n",
       "      <td>3.835721e-02</td>\n",
       "      <td>2.472226e-07</td>\n",
       "      <td>5.301038e-01</td>\n",
       "      <td>0.002699</td>\n",
       "      <td>2.185454</td>\n",
       "      <td>2.106737</td>\n",
       "      <td>14.869798</td>\n",
       "    </tr>\n",
       "    <tr>\n",
       "      <th>1889-01-05</th>\n",
       "      <td>0.698013</td>\n",
       "      <td>0.021048</td>\n",
       "      <td>2.132686e+00</td>\n",
       "      <td>2.496841e+00</td>\n",
       "      <td>4.708019e-09</td>\n",
       "      <td>2.766362e+00</td>\n",
       "      <td>1.822940e+01</td>\n",
       "      <td>0.339267</td>\n",
       "      <td>0.002468</td>\n",
       "      <td>11.920356</td>\n",
       "      <td>...</td>\n",
       "      <td>4.270161e-13</td>\n",
       "      <td>1.879692e-01</td>\n",
       "      <td>4.504985e+00</td>\n",
       "      <td>3.506923e-07</td>\n",
       "      <td>1.949792e-13</td>\n",
       "      <td>1.460928e-10</td>\n",
       "      <td>0.001026</td>\n",
       "      <td>2.766507</td>\n",
       "      <td>1.763335</td>\n",
       "      <td>0.467628</td>\n",
       "    </tr>\n",
       "    <tr>\n",
       "      <th>...</th>\n",
       "      <td>...</td>\n",
       "      <td>...</td>\n",
       "      <td>...</td>\n",
       "      <td>...</td>\n",
       "      <td>...</td>\n",
       "      <td>...</td>\n",
       "      <td>...</td>\n",
       "      <td>...</td>\n",
       "      <td>...</td>\n",
       "      <td>...</td>\n",
       "      <td>...</td>\n",
       "      <td>...</td>\n",
       "      <td>...</td>\n",
       "      <td>...</td>\n",
       "      <td>...</td>\n",
       "      <td>...</td>\n",
       "      <td>...</td>\n",
       "      <td>...</td>\n",
       "      <td>...</td>\n",
       "      <td>...</td>\n",
       "      <td>...</td>\n",
       "    </tr>\n",
       "    <tr>\n",
       "      <th>2014-12-27</th>\n",
       "      <td>0.033748</td>\n",
       "      <td>0.123476</td>\n",
       "      <td>1.451179e+00</td>\n",
       "      <td>3.852845e+01</td>\n",
       "      <td>2.061717e-03</td>\n",
       "      <td>8.179260e-09</td>\n",
       "      <td>1.171263e-02</td>\n",
       "      <td>0.090786</td>\n",
       "      <td>59.895053</td>\n",
       "      <td>5.071783</td>\n",
       "      <td>...</td>\n",
       "      <td>4.726998e-13</td>\n",
       "      <td>1.326889e-01</td>\n",
       "      <td>1.827857e+00</td>\n",
       "      <td>6.912632e-03</td>\n",
       "      <td>2.171327e-03</td>\n",
       "      <td>1.620489e+00</td>\n",
       "      <td>2.084252</td>\n",
       "      <td>0.868046</td>\n",
       "      <td>17.444923</td>\n",
       "      <td>0.037472</td>\n",
       "    </tr>\n",
       "    <tr>\n",
       "      <th>2014-12-28</th>\n",
       "      <td>0.094198</td>\n",
       "      <td>2.645496</td>\n",
       "      <td>4.249335e+01</td>\n",
       "      <td>5.833801e-01</td>\n",
       "      <td>5.939502e-09</td>\n",
       "      <td>8.146937e-01</td>\n",
       "      <td>4.938899e-01</td>\n",
       "      <td>0.000000</td>\n",
       "      <td>0.512632</td>\n",
       "      <td>1.578188</td>\n",
       "      <td>...</td>\n",
       "      <td>4.609420e-13</td>\n",
       "      <td>1.644482e+00</td>\n",
       "      <td>7.242920e-01</td>\n",
       "      <td>2.836752e-03</td>\n",
       "      <td>1.344768e+01</td>\n",
       "      <td>2.391159e+00</td>\n",
       "      <td>1.644527</td>\n",
       "      <td>0.782258</td>\n",
       "      <td>1.569647</td>\n",
       "      <td>0.158061</td>\n",
       "    </tr>\n",
       "    <tr>\n",
       "      <th>2014-12-29</th>\n",
       "      <td>0.005964</td>\n",
       "      <td>3.041667</td>\n",
       "      <td>2.898325e+00</td>\n",
       "      <td>9.359547e-02</td>\n",
       "      <td>2.000051e-08</td>\n",
       "      <td>2.532205e-01</td>\n",
       "      <td>1.306046e+00</td>\n",
       "      <td>0.000002</td>\n",
       "      <td>37.169669</td>\n",
       "      <td>1.565885</td>\n",
       "      <td>...</td>\n",
       "      <td>2.016156e+01</td>\n",
       "      <td>1.506439e+00</td>\n",
       "      <td>1.049481e-01</td>\n",
       "      <td>8.137182e+00</td>\n",
       "      <td>2.547820e+01</td>\n",
       "      <td>1.987695e-12</td>\n",
       "      <td>0.205036</td>\n",
       "      <td>2.140723</td>\n",
       "      <td>1.444630</td>\n",
       "      <td>0.025719</td>\n",
       "    </tr>\n",
       "    <tr>\n",
       "      <th>2014-12-30</th>\n",
       "      <td>0.000028</td>\n",
       "      <td>1.131412</td>\n",
       "      <td>2.516381e-01</td>\n",
       "      <td>1.715028e-01</td>\n",
       "      <td>7.191735e-05</td>\n",
       "      <td>8.169252e-02</td>\n",
       "      <td>1.722262e-01</td>\n",
       "      <td>0.788577</td>\n",
       "      <td>7.361246</td>\n",
       "      <td>0.025749</td>\n",
       "      <td>...</td>\n",
       "      <td>9.420543e+00</td>\n",
       "      <td>6.242895e+00</td>\n",
       "      <td>1.245115e-01</td>\n",
       "      <td>9.305263e-03</td>\n",
       "      <td>4.192948e+00</td>\n",
       "      <td>2.150346e+00</td>\n",
       "      <td>0.000017</td>\n",
       "      <td>29.714692</td>\n",
       "      <td>0.716019</td>\n",
       "      <td>0.729390</td>\n",
       "    </tr>\n",
       "    <tr>\n",
       "      <th>2014-12-31</th>\n",
       "      <td>0.532747</td>\n",
       "      <td>2.370896</td>\n",
       "      <td>1.047835e-13</td>\n",
       "      <td>4.437736e+00</td>\n",
       "      <td>2.863683e-01</td>\n",
       "      <td>6.343592e+00</td>\n",
       "      <td>6.368303e-01</td>\n",
       "      <td>0.442130</td>\n",
       "      <td>0.306608</td>\n",
       "      <td>0.106525</td>\n",
       "      <td>...</td>\n",
       "      <td>1.031899e+01</td>\n",
       "      <td>4.765813e+01</td>\n",
       "      <td>3.274323e-01</td>\n",
       "      <td>6.854985e-11</td>\n",
       "      <td>2.067847e+00</td>\n",
       "      <td>2.349716e+01</td>\n",
       "      <td>0.035319</td>\n",
       "      <td>59.724062</td>\n",
       "      <td>3.240185</td>\n",
       "      <td>0.008076</td>\n",
       "    </tr>\n",
       "  </tbody>\n",
       "</table>\n",
       "<p>46020 rows × 26 columns</p>\n",
       "</div>"
      ],
      "text/plain": [
       "model       ACCESS-CM2  ACCESS-ESM1-5  AWI-ESM-1-1-LR   BCC-CSM2-MR  \\\n",
       "time                                                                  \n",
       "1889-01-01    0.040427       1.814552    3.557934e+01  4.268112e+00   \n",
       "1889-01-02    0.073777       0.303965    4.596520e+00  1.190141e+00   \n",
       "1889-01-03    0.232656       0.019976    5.927467e+00  1.003845e-09   \n",
       "1889-01-04    0.911319      13.623777    8.029624e+00  8.225225e-02   \n",
       "1889-01-05    0.698013       0.021048    2.132686e+00  2.496841e+00   \n",
       "...                ...            ...             ...           ...   \n",
       "2014-12-27    0.033748       0.123476    1.451179e+00  3.852845e+01   \n",
       "2014-12-28    0.094198       2.645496    4.249335e+01  5.833801e-01   \n",
       "2014-12-29    0.005964       3.041667    2.898325e+00  9.359547e-02   \n",
       "2014-12-30    0.000028       1.131412    2.516381e-01  1.715028e-01   \n",
       "2014-12-31    0.532747       2.370896    1.047835e-13  4.437736e+00   \n",
       "\n",
       "model           BCC-ESM1  CMCC-CM2-HR4  CMCC-CM2-SR5  CMCC-ESM2    CanESM5  \\\n",
       "time                                                                         \n",
       "1889-01-01  1.107466e-03  1.141054e+01  3.322009e-08   2.668800   1.321215   \n",
       "1889-01-02  1.015323e-04  4.014984e+00  1.312700e+00   0.946211   2.788724   \n",
       "1889-01-03  1.760345e-05  9.660565e+00  9.103720e+00   0.431999   0.003672   \n",
       "1889-01-04  1.808932e-01  3.951528e+00  1.317160e+01   0.368693   0.013578   \n",
       "1889-01-05  4.708019e-09  2.766362e+00  1.822940e+01   0.339267   0.002468   \n",
       "...                  ...           ...           ...        ...        ...   \n",
       "2014-12-27  2.061717e-03  8.179260e-09  1.171263e-02   0.090786  59.895053   \n",
       "2014-12-28  5.939502e-09  8.146937e-01  4.938899e-01   0.000000   0.512632   \n",
       "2014-12-29  2.000051e-08  2.532205e-01  1.306046e+00   0.000002  37.169669   \n",
       "2014-12-30  7.191735e-05  8.169252e-02  1.722262e-01   0.788577   7.361246   \n",
       "2014-12-31  2.863683e-01  6.343592e+00  6.368303e-01   0.442130   0.306608   \n",
       "\n",
       "model       EC-Earth3-Veg-LR  ...  MPI-ESM-1-2-HAM  MPI-ESM1-2-HR  \\\n",
       "time                          ...                                   \n",
       "1889-01-01          1.515293  ...     4.244226e-13   1.390174e-13   \n",
       "1889-01-02          4.771375  ...     4.409552e+00   1.222283e-01   \n",
       "1889-01-03          4.233980  ...     2.269300e-01   3.762301e-01   \n",
       "1889-01-04         15.252495  ...     2.344586e-02   4.214019e-01   \n",
       "1889-01-05         11.920356  ...     4.270161e-13   1.879692e-01   \n",
       "...                      ...  ...              ...            ...   \n",
       "2014-12-27          5.071783  ...     4.726998e-13   1.326889e-01   \n",
       "2014-12-28          1.578188  ...     4.609420e-13   1.644482e+00   \n",
       "2014-12-29          1.565885  ...     2.016156e+01   1.506439e+00   \n",
       "2014-12-30          0.025749  ...     9.420543e+00   6.242895e+00   \n",
       "2014-12-31          0.106525  ...     1.031899e+01   4.765813e+01   \n",
       "\n",
       "model       MPI-ESM1-2-LR    MRI-ESM2-0         NESM3    NorESM2-LM  \\\n",
       "time                                                                  \n",
       "1889-01-01   6.537884e-05  3.445495e-06  1.576096e+01  4.759651e-05   \n",
       "1889-01-02   1.049131e-13  4.791993e-09  3.675510e-01  4.350863e-01   \n",
       "1889-01-03   9.758706e-14  6.912302e-01  1.562869e-01  9.561101e+00   \n",
       "1889-01-04   7.060915e-03  3.835721e-02  2.472226e-07  5.301038e-01   \n",
       "1889-01-05   4.504985e+00  3.506923e-07  1.949792e-13  1.460928e-10   \n",
       "...                   ...           ...           ...           ...   \n",
       "2014-12-27   1.827857e+00  6.912632e-03  2.171327e-03  1.620489e+00   \n",
       "2014-12-28   7.242920e-01  2.836752e-03  1.344768e+01  2.391159e+00   \n",
       "2014-12-29   1.049481e-01  8.137182e+00  2.547820e+01  1.987695e-12   \n",
       "2014-12-30   1.245115e-01  9.305263e-03  4.192948e+00  2.150346e+00   \n",
       "2014-12-31   3.274323e-01  6.854985e-11  2.067847e+00  2.349716e+01   \n",
       "\n",
       "model       NorESM2-MM  SAM0-UNICON    TaiESM1   observed  \n",
       "time                                                       \n",
       "1889-01-01    2.451075     0.221324   2.257933   0.006612  \n",
       "1889-01-02    0.477231     3.757179   2.287381   0.090422  \n",
       "1889-01-03    0.023083     0.253357   1.199909   1.401452  \n",
       "1889-01-04    0.002699     2.185454   2.106737  14.869798  \n",
       "1889-01-05    0.001026     2.766507   1.763335   0.467628  \n",
       "...                ...          ...        ...        ...  \n",
       "2014-12-27    2.084252     0.868046  17.444923   0.037472  \n",
       "2014-12-28    1.644527     0.782258   1.569647   0.158061  \n",
       "2014-12-29    0.205036     2.140723   1.444630   0.025719  \n",
       "2014-12-30    0.000017    29.714692   0.716019   0.729390  \n",
       "2014-12-31    0.035319    59.724062   3.240185   0.008076  \n",
       "\n",
       "[46020 rows x 26 columns]"
      ]
     },
     "execution_count": 6,
     "metadata": {},
     "output_type": "execute_result"
    }
   ],
   "source": [
    "df"
   ]
  },
  {
   "cell_type": "code",
   "execution_count": 7,
   "id": "7f12e6ec",
   "metadata": {},
   "outputs": [],
   "source": [
    "df.to_csv('s3://mds-s3-student1/output/ml_data_SYD.csv', storage_options=aws_credentials)"
   ]
  },
  {
   "cell_type": "markdown",
   "id": "bd8b4777",
   "metadata": {},
   "source": [
    "### Screenshot"
   ]
  },
  {
   "cell_type": "markdown",
   "id": "e9948b17",
   "metadata": {},
   "source": [
    "![](https://github.com/UBC-MDS/web_cloud_comp_group2/raw/main/notebooks/img/image_5.png)"
   ]
  }
 ],
 "metadata": {
  "kernelspec": {
   "display_name": "Python 3",
   "language": "python",
   "name": "python3"
  },
  "language_info": {
   "codemirror_mode": {
    "name": "ipython",
    "version": 3
   },
   "file_extension": ".py",
   "mimetype": "text/x-python",
   "name": "python",
   "nbconvert_exporter": "python",
   "pygments_lexer": "ipython3",
   "version": "3.8.5"
  }
 },
 "nbformat": 4,
 "nbformat_minor": 5
}
